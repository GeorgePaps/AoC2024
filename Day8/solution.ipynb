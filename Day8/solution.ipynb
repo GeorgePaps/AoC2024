{
 "cells": [
  {
   "cell_type": "markdown",
   "metadata": {},
   "source": [
    "At first we will create a dictionary with keys every unique character encounter\n",
    "and values a list of the locations this values is encountered."
   ]
  },
  {
   "cell_type": "code",
   "execution_count": 40,
   "metadata": {},
   "outputs": [],
   "source": [
    "char_location_dict = {}\n",
    "antinode = []\n",
    "antinodeDict = {}\n",
    "\n",
    "with open('input2.txt', 'r') as file:\n",
    "    for line_number, line in enumerate(file, start=1):\n",
    "        line_chars = []\n",
    "        for char_number, char in enumerate(line, start=1):\n",
    "            if char == '\\n':\n",
    "                continue    \n",
    "            line_chars.append(char)\n",
    "            antinodeDict[line_number, char_number] = 0\n",
    "            if char == '.':\n",
    "                continue\n",
    "            if (char not in char_location_dict):\n",
    "                char_location_dict[char] = []\n",
    "            char_location_dict[char].append((line_number, char_number))\n",
    "        antinode.append(line_chars) "
   ]
  },
  {
   "cell_type": "code",
   "execution_count": 41,
   "metadata": {},
   "outputs": [
    {
     "data": {
      "text/plain": [
       "8"
      ]
     },
     "execution_count": 41,
     "metadata": {},
     "output_type": "execute_result"
    }
   ],
   "source": [
    "len(antinode[2])"
   ]
  },
  {
   "cell_type": "markdown",
   "metadata": {},
   "source": [
    "- Every pair of same letters has antinode."
   ]
  },
  {
   "cell_type": "code",
   "execution_count": 46,
   "metadata": {},
   "outputs": [
    {
     "name": "stdout",
     "output_type": "stream",
     "text": [
      "(3, 3)\n",
      "(4, 4)\n",
      "(6, 4)\n",
      "(7, 3)\n"
     ]
    }
   ],
   "source": [
    "for key, val in char_location_dict.items():\n",
    "    for alpha in val:\n",
    "        for beta in val:\n",
    "            if alpha != beta:\n",
    "                print(alpha)"
   ]
  },
  {
   "cell_type": "code",
   "execution_count": null,
   "metadata": {},
   "outputs": [],
   "source": []
  }
 ],
 "metadata": {
  "kernelspec": {
   "display_name": "aocvenv",
   "language": "python",
   "name": "python3"
  },
  "language_info": {
   "codemirror_mode": {
    "name": "ipython",
    "version": 3
   },
   "file_extension": ".py",
   "mimetype": "text/x-python",
   "name": "python",
   "nbconvert_exporter": "python",
   "pygments_lexer": "ipython3",
   "version": "3.11.0"
  }
 },
 "nbformat": 4,
 "nbformat_minor": 2
}
