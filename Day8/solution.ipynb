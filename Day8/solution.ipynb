{
 "cells": [
  {
   "cell_type": "markdown",
   "metadata": {},
   "source": [
    "At first we create the following dictionary:\n",
    "- Key : every unique character encountered\n",
    "- Value : list of locations character is encountered"
   ]
  },
  {
   "cell_type": "code",
   "execution_count": 2,
   "metadata": {},
   "outputs": [],
   "source": [
    "# main dictionary\n",
    "char_location_dict = {}\n",
    "\n",
    "antinode = []\n",
    "\n",
    "antinodeDict = {}\n",
    "\n",
    "with open('input2.txt', 'r') as file:\n",
    "\n",
    "    for line_number, line in enumerate(file, start=1):\n",
    "        \n",
    "        line_chars = []\n",
    "        \n",
    "        for char_number, char in enumerate(line, start=1):\n",
    "            \n",
    "            if char == '\\n':\n",
    "                continue    \n",
    "\n",
    "            line_chars.append(char)\n",
    "            antinodeDict[line_number, char_number] = 0\n",
    "            \n",
    "            if char == '.':\n",
    "                continue\n",
    "            \n",
    "            if (char not in char_location_dict):\n",
    "                char_location_dict[char] = []\n",
    "            \n",
    "            char_location_dict[char].append((line_number, char_number))\n",
    "        \n",
    "        antinode.append(line_chars) "
   ]
  },
  {
   "cell_type": "code",
   "execution_count": 4,
   "metadata": {},
   "outputs": [
    {
     "data": {
      "text/plain": [
       "{(1, 1): 0,\n",
       " (1, 2): 0,\n",
       " (1, 3): 0,\n",
       " (1, 4): 0,\n",
       " (1, 5): 0,\n",
       " (1, 6): 0,\n",
       " (1, 7): 0,\n",
       " (1, 8): 0,\n",
       " (2, 1): 0,\n",
       " (2, 2): 0,\n",
       " (2, 3): 0,\n",
       " (2, 4): 0,\n",
       " (2, 5): 0,\n",
       " (2, 6): 0,\n",
       " (2, 7): 0,\n",
       " (2, 8): 0,\n",
       " (3, 1): 0,\n",
       " (3, 2): 0,\n",
       " (3, 3): 0,\n",
       " (3, 4): 0,\n",
       " (3, 5): 0,\n",
       " (3, 6): 0,\n",
       " (3, 7): 0,\n",
       " (3, 8): 0,\n",
       " (4, 1): 0,\n",
       " (4, 2): 0,\n",
       " (4, 3): 0,\n",
       " (4, 4): 0,\n",
       " (4, 5): 0,\n",
       " (4, 6): 0,\n",
       " (4, 7): 0,\n",
       " (4, 8): 0,\n",
       " (5, 1): 0,\n",
       " (5, 2): 0,\n",
       " (5, 3): 0,\n",
       " (5, 4): 0,\n",
       " (5, 5): 0,\n",
       " (5, 6): 0,\n",
       " (5, 7): 0,\n",
       " (5, 8): 0,\n",
       " (6, 1): 0,\n",
       " (6, 2): 0,\n",
       " (6, 3): 0,\n",
       " (6, 4): 0,\n",
       " (6, 5): 0,\n",
       " (6, 6): 0,\n",
       " (6, 7): 0,\n",
       " (6, 8): 0,\n",
       " (7, 1): 0,\n",
       " (7, 2): 0,\n",
       " (7, 3): 0,\n",
       " (7, 4): 0,\n",
       " (7, 5): 0,\n",
       " (7, 6): 0,\n",
       " (7, 7): 0,\n",
       " (7, 8): 0,\n",
       " (8, 1): 0,\n",
       " (8, 2): 0,\n",
       " (8, 3): 0,\n",
       " (8, 4): 0,\n",
       " (8, 5): 0,\n",
       " (8, 6): 0,\n",
       " (8, 7): 0,\n",
       " (8, 8): 0}"
      ]
     },
     "execution_count": 4,
     "metadata": {},
     "output_type": "execute_result"
    }
   ],
   "source": [
    "antinodeDict"
   ]
  },
  {
   "cell_type": "markdown",
   "metadata": {},
   "source": [
    "An important idea is that every pair of same letters has two antinodes. We will use itertools to get every combination of location for a specific character. "
   ]
  },
  {
   "cell_type": "code",
   "execution_count": 8,
   "metadata": {},
   "outputs": [
    {
     "data": {
      "text/plain": [
       "[['.', '.', '.', '.', '.', '.', '.', '.'],\n",
       " ['.', '.', '.', '.', '.', '.', '.', '.'],\n",
       " ['.', '.', 'o', '.', '.', '.', '.', '.'],\n",
       " ['.', '.', '.', '.', 'o', '.', '.', '.'],\n",
       " ['.', '.', '.', '.', '.', '.', '.', '.'],\n",
       " ['.', '.', '.', 'a', '.', '.', '.', '.'],\n",
       " ['.', '.', 'a', '.', '.', '.', '.', '.'],\n",
       " ['.', '.', '.', '.', '.', '.', '.', '.']]"
      ]
     },
     "execution_count": 8,
     "metadata": {},
     "output_type": "execute_result"
    }
   ],
   "source": [
    "antinode"
   ]
  },
  {
   "cell_type": "code",
   "execution_count": 25,
   "metadata": {},
   "outputs": [
    {
     "name": "stdout",
     "output_type": "stream",
     "text": [
      "((3, 3), (4, 5))\n",
      "o 2 1\n",
      "o 5 7\n",
      "((6, 4), (7, 3))\n",
      "a 5 5\n",
      "a 8 2\n"
     ]
    }
   ],
   "source": [
    "import itertools\n",
    "\n",
    "for char, locations in char_location_dict.items():\n",
    "        \n",
    "        # take the unique combinations of locations that have the same character\n",
    "        combinations = list(itertools.combinations(locations, 2))\n",
    "        \n",
    "        for comb in combinations:\n",
    "\n",
    "                # we need a bit of arithmetic here and maybe some drawing\n",
    "                # but it comes down to this\n",
    "                antinodeAlphaX = 2*comb[0][0] - comb[1][0]  \n",
    "                antinodeAlphaY = 2*comb[0][1] - comb[1][1]  \n",
    "                \n",
    "                antinodeBetaX = 2*comb[1][0] - comb[0][0]\n",
    "                antinodeBetaY = 2*comb[1][1] - comb[0][1]  \n",
    "                \n",
    "                "
   ]
  },
  {
   "cell_type": "code",
   "execution_count": null,
   "metadata": {},
   "outputs": [],
   "source": []
  }
 ],
 "metadata": {
  "kernelspec": {
   "display_name": "aocvenv",
   "language": "python",
   "name": "python3"
  },
  "language_info": {
   "codemirror_mode": {
    "name": "ipython",
    "version": 3
   },
   "file_extension": ".py",
   "mimetype": "text/x-python",
   "name": "python",
   "nbconvert_exporter": "python",
   "pygments_lexer": "ipython3",
   "version": "3.11.0"
  }
 },
 "nbformat": 4,
 "nbformat_minor": 2
}
