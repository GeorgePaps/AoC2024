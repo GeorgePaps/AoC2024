{
 "cells": [
  {
   "cell_type": "markdown",
   "metadata": {},
   "source": [
    "At first we create the following dictionary:\n",
    "- Key : every unique character encountered\n",
    "- Value : list of locations character is encountered"
   ]
  },
  {
   "cell_type": "code",
   "execution_count": 116,
   "metadata": {},
   "outputs": [],
   "source": [
    "# main dictionary\n",
    "char_location_dict = {}\n",
    "\n",
    "map = []\n",
    "\n",
    "antinodeDict = {}\n",
    "\n",
    "with open('input2.txt', 'r') as file:\n",
    "\n",
    "    for line_number, line in enumerate(file, start=1):\n",
    "        \n",
    "        line_chars = []\n",
    "        \n",
    "        for char_number, char in enumerate(line, start=1):\n",
    "            \n",
    "            if char == '\\n':\n",
    "                continue    \n",
    "\n",
    "            line_chars.append(char)\n",
    "            antinodeDict[line_number, char_number] = 0\n",
    "            \n",
    "            if char == '.':\n",
    "                continue\n",
    "            \n",
    "            if (char not in char_location_dict):\n",
    "                char_location_dict[char] = []\n",
    "            \n",
    "            char_location_dict[char].append((line_number, char_number))\n",
    "        \n",
    "        map.append(line_chars) "
   ]
  },
  {
   "cell_type": "code",
   "execution_count": 117,
   "metadata": {},
   "outputs": [],
   "source": [
    "# antinodeDict"
   ]
  },
  {
   "cell_type": "markdown",
   "metadata": {},
   "source": [
    "An important idea is that every pair of same letters has two antinodes. We will use itertools to get every combination of location for a specific character. "
   ]
  },
  {
   "cell_type": "code",
   "execution_count": 118,
   "metadata": {},
   "outputs": [
    {
     "data": {
      "text/plain": [
       "[['.', '.', '.', '.', '.', '.', '.', '.', '.', '.', '.'],\n",
       " ['.', '.', '.', '.', '.', '.', '.', '.', '.', '.', '.'],\n",
       " ['.', '.', 'o', '.', '.', '.', '.', '.', '.', '.', '.'],\n",
       " ['.', '.', '.', '.', 'o', '.', '.', '.', '.', '.', '.'],\n",
       " ['.', '.', '.', '.', '.', '.', '.', '.', '.', '.', '.'],\n",
       " ['.', '.', '.', 'a', '.', 'o', '.', '.', '.', '.', '.'],\n",
       " ['.', '.', 'a', '.', '.', '.', '.', '.', '.', '.', '.'],\n",
       " ['.', '.', '.', 'a', '.', '.', '.', '.', '.', '.', '.'],\n",
       " ['.', '.', '.', '.', 'A', 'A', '.', '.', '.', '.', '.'],\n",
       " ['.', '.', '.', '.', '.', '.', '.', '.', '.', '.', '.']]"
      ]
     },
     "execution_count": 118,
     "metadata": {},
     "output_type": "execute_result"
    }
   ],
   "source": [
    "map"
   ]
  },
  {
   "cell_type": "code",
   "execution_count": 130,
   "metadata": {},
   "outputs": [],
   "source": [
    "import itertools\n",
    "\n",
    "xSize = len(map)\n",
    "ySize = len(map[0])\n",
    "\n",
    "for char, locations in char_location_dict.items():\n",
    "        \n",
    "        # take the unique combinations of locations that have the same character\n",
    "        combinations = list(itertools.combinations(locations, 2))\n",
    "        \n",
    "        for comb in combinations:\n",
    "                \n",
    "                # we need a bit of arithmetic here and maybe some drawing\n",
    "                # but it comes down to this\n",
    "                \n",
    "                counter = 1 \n",
    "                antinodeAlphaX = comb[0][0] + counter * (comb[0][0] - comb[1][0])  \n",
    "                antinodeAlphaY = comb[0][0] + counter * (comb[0][1] - comb[1][1])  \n",
    "\n",
    "                while antinodeAlphaX > 0 and antinodeAlphaX <= xSize and antinodeAlphaY > 0 and antinodeAlphaY <= ySize:\n",
    "                       \n",
    "                        if (antinodeAlphaX, antinodeAlphaY) in antinodeDict.keys():\n",
    "                                antinodeDict[(antinodeAlphaX, antinodeAlphaY)] = 1\n",
    "                                map[antinodeAlphaX-1][antinodeAlphaY-1] = 'x'\n",
    "                        counter += 1 \n",
    "                        antinodeAlphaX = comb[0][0] + counter * (comb[0][0] - comb[1][0])  \n",
    "                        antinodeAlphaY = comb[0][1] + counter * (comb[0][1] - comb[1][1])  \n",
    "\n",
    "                #############################################\n",
    "\n",
    "                counter = 1 \n",
    "                antinodeBetaX = comb[1][0] + counter * (comb[1][0] - comb[0][0])\n",
    "                antinodeBetaY = comb[1][1] + counter * (comb[1][1] - comb[0][1])  \n",
    "\n",
    "                while antinodeBetaX > 0 and antinodeBetaX <= xSize and antinodeBetaY > 0 and antinodeBetaY <= ySize:\n",
    "\n",
    "                        if (antinodeBetaX, antinodeBetaY) in antinodeDict.keys():\n",
    "                                antinodeDict[(antinodeBetaX, antinodeBetaY)] = 1\n",
    "                                map[antinodeBetaX-1][antinodeBetaY-1] = 'x'\n",
    "                        \n",
    "                        counter += 1 \n",
    "                        antinodeBetaX = comb[1][0] + counter * (comb[1][0] - comb[0][0])\n",
    "                        antinodeBetaY = comb[1][1] + counter * (comb[1][1] - comb[0][1])  "
   ]
  },
  {
   "cell_type": "code",
   "execution_count": 120,
   "metadata": {},
   "outputs": [
    {
     "data": {
      "text/plain": [
       "[['.', '.', '.', '.', '.', '.', '.', '.', 'x', '.', '.'],\n",
       " ['x', '.', '.', 'x', '.', '.', '.', 'x', '.', '.', '.'],\n",
       " ['.', '.', 'o', '.', '.', '.', 'x', '.', '.', '.', '.'],\n",
       " ['.', '.', '.', 'x', 'o', 'x', '.', '.', '.', '.', '.'],\n",
       " ['x', '.', '.', '.', 'x', '.', 'x', '.', '.', '.', '.'],\n",
       " ['.', 'x', '.', 'a', '.', 'o', '.', '.', 'x', '.', '.'],\n",
       " ['.', '.', 'a', '.', '.', '.', '.', '.', '.', '.', 'x'],\n",
       " ['.', 'x', '.', 'a', '.', '.', 'x', '.', '.', '.', '.'],\n",
       " ['x', 'x', 'x', 'x', 'x', 'A', 'x', 'x', 'x', 'x', 'x'],\n",
       " ['.', '.', '.', 'x', '.', 'x', '.', 'x', '.', '.', '.']]"
      ]
     },
     "execution_count": 120,
     "metadata": {},
     "output_type": "execute_result"
    }
   ],
   "source": [
    "map"
   ]
  },
  {
   "cell_type": "code",
   "execution_count": 131,
   "metadata": {},
   "outputs": [
    {
     "data": {
      "text/plain": [
       "<function print(*args, sep=' ', end='\\n', file=None, flush=False)>"
      ]
     },
     "execution_count": 131,
     "metadata": {},
     "output_type": "execute_result"
    }
   ],
   "source": [
    "counter = 0\n",
    "\n",
    "for loc, antinode in antinodeDict.items():\n",
    "    if antinode:\n",
    "        counter += 1\n",
    "\n",
    "print"
   ]
  },
  {
   "cell_type": "code",
   "execution_count": null,
   "metadata": {},
   "outputs": [],
   "source": []
  },
  {
   "cell_type": "code",
   "execution_count": null,
   "metadata": {},
   "outputs": [],
   "source": []
  }
 ],
 "metadata": {
  "kernelspec": {
   "display_name": "aocvenv",
   "language": "python",
   "name": "python3"
  },
  "language_info": {
   "codemirror_mode": {
    "name": "ipython",
    "version": 3
   },
   "file_extension": ".py",
   "mimetype": "text/x-python",
   "name": "python",
   "nbconvert_exporter": "python",
   "pygments_lexer": "ipython3",
   "version": "3.11.0"
  }
 },
 "nbformat": 4,
 "nbformat_minor": 2
}
