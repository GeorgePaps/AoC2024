{
 "cells": [
  {
   "cell_type": "markdown",
   "metadata": {},
   "source": [
    "A rather interesting problem for day 23. Let's see. \n",
    "I will start to test with a smaller input.\n"
   ]
  },
  {
   "cell_type": "code",
   "execution_count": 82,
   "metadata": {},
   "outputs": [],
   "source": [
    "lanDict = {}\n",
    "triples = set()\n",
    "\n",
    "with open('input.txt', 'r') as file:\n",
    "\n",
    "    # Read each line in the file\n",
    "    for line_number, line in enumerate(file, start=1):\n",
    "\n",
    "        # Split the line into a list of words   \n",
    "        lanCon = line.strip().split('-')\n",
    "\n",
    "        # Check if the first word is in the dictionary\n",
    "        if lanCon[0] not in lanDict:\n",
    "            lanDict[lanCon[0]] = (lanCon[1],)\n",
    "        else:\n",
    "            lanDict[lanCon[0]] = lanDict[lanCon[0]] + (lanCon[1],)\n",
    "        if lanCon[1] not in lanDict:\n",
    "            lanDict[lanCon[1]] = (lanCon[0],)\n",
    "        else:\n",
    "            lanDict[lanCon[1]] = lanDict[lanCon[1]] + (lanCon[0],)\n",
    "\n"
   ]
  },
  {
   "cell_type": "markdown",
   "metadata": {},
   "source": [
    "We have now created a dictionary that has as key every possible code that takes part in the LAN party\n",
    "and values a set of all the other codes that take part with it in the LAN party."
   ]
  },
  {
   "cell_type": "code",
   "execution_count": 83,
   "metadata": {},
   "outputs": [],
   "source": [
    "# lanDict"
   ]
  },
  {
   "cell_type": "markdown",
   "metadata": {},
   "source": [
    "We create a set of all the possible triple lan parties that can be formed base on the previously created dictionary. "
   ]
  },
  {
   "cell_type": "code",
   "execution_count": 84,
   "metadata": {},
   "outputs": [],
   "source": [
    "import itertools\n",
    "\n",
    "triples = set()\n",
    "\n",
    "for key, values in lanDict.items():\n",
    "    for combination in itertools.combinations(values, 2):\n",
    "        triples.add((key, combination[0], combination[1]))\n",
    "\n"
   ]
  },
  {
   "cell_type": "code",
   "execution_count": 85,
   "metadata": {},
   "outputs": [
    {
     "data": {
      "text/plain": [
       "40560"
      ]
     },
     "execution_count": 85,
     "metadata": {},
     "output_type": "execute_result"
    }
   ],
   "source": [
    "len(triples)"
   ]
  },
  {
   "cell_type": "code",
   "execution_count": 86,
   "metadata": {},
   "outputs": [],
   "source": [
    "# we initially remove all triples that don't have at least one computer starting with 't'\n",
    "triples = {triple for triple in triples if any(element.startswith('t') for element in triple)}\n",
    "triplesB = triples.copy()\n"
   ]
  },
  {
   "cell_type": "code",
   "execution_count": 87,
   "metadata": {},
   "outputs": [
    {
     "data": {
      "text/plain": [
       "4459"
      ]
     },
     "execution_count": 87,
     "metadata": {},
     "output_type": "execute_result"
    }
   ],
   "source": [
    "len(triples)"
   ]
  },
  {
   "cell_type": "code",
   "execution_count": 88,
   "metadata": {},
   "outputs": [],
   "source": [
    "# for every triple\n",
    "for triple in triples:\n",
    "    # for every element in the triple\n",
    "    for el in triple:\n",
    "\n",
    "        # setB is the set of elements in the triple that are not equal to el\n",
    "        setB = {el2 for el2 in triple if el2 != el}\n",
    "        \n",
    "        # if the set of elements in the triple that are not equal to el is not a subset of the set of elements in the language dictionary that are equal to el, we remove the triple\n",
    "        if not setB.issubset(lanDict[el]):\n",
    "            triplesB.remove(triple)\n",
    "            break\n"
   ]
  },
  {
   "cell_type": "code",
   "execution_count": 89,
   "metadata": {},
   "outputs": [
    {
     "data": {
      "text/plain": [
       "3645"
      ]
     },
     "execution_count": 89,
     "metadata": {},
     "output_type": "execute_result"
    }
   ],
   "source": [
    "len(triplesB)"
   ]
  },
  {
   "cell_type": "code",
   "execution_count": 90,
   "metadata": {},
   "outputs": [],
   "source": [
    "unique_triplesB = set()\n",
    "for triple in triplesB:\n",
    "    unique_triplesB.add(frozenset(triple))\n",
    "\n",
    "# Convert back to a set of tuples if needed\n",
    "unique_triplesB = {tuple(triple) for triple in unique_triplesB}\n",
    "triplesB = unique_triplesB"
   ]
  },
  {
   "cell_type": "code",
   "execution_count": 92,
   "metadata": {},
   "outputs": [
    {
     "data": {
      "text/plain": [
       "1215"
      ]
     },
     "execution_count": 92,
     "metadata": {},
     "output_type": "execute_result"
    }
   ],
   "source": [
    "len(triplesB)"
   ]
  }
 ],
 "metadata": {
  "kernelspec": {
   "display_name": "aocvenv",
   "language": "python",
   "name": "python3"
  },
  "language_info": {
   "codemirror_mode": {
    "name": "ipython",
    "version": 3
   },
   "file_extension": ".py",
   "mimetype": "text/x-python",
   "name": "python",
   "nbconvert_exporter": "python",
   "pygments_lexer": "ipython3",
   "version": "3.11.0"
  }
 },
 "nbformat": 4,
 "nbformat_minor": 2
}
